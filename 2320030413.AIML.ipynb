{
  "nbformat": 4,
  "nbformat_minor": 0,
  "metadata": {
    "colab": {
      "provenance": []
    },
    "kernelspec": {
      "name": "python3",
      "display_name": "Python 3"
    },
    "language_info": {
      "name": "python"
    }
  },
  "cells": [
    {
      "cell_type": "code",
      "execution_count": null,
      "metadata": {
        "colab": {
          "base_uri": "https://localhost:8080/"
        },
        "id": "wcvV5xY50yUg",
        "outputId": "56b5bb07-0f89-4c5d-b336-68863f14fc14"
      },
      "outputs": [
        {
          "output_type": "stream",
          "name": "stdout",
          "text": [
            "karthik\n"
          ]
        }
      ],
      "source": [
        "print(\"karthik\")"
      ]
    },
    {
      "cell_type": "code",
      "source": [],
      "metadata": {
        "id": "TAkxULPPIwUY"
      },
      "execution_count": null,
      "outputs": []
    },
    {
      "cell_type": "code",
      "source": [
        "0+1+1+0+2+0+0+4"
      ],
      "metadata": {
        "colab": {
          "base_uri": "https://localhost:8080/"
        },
        "id": "WaoaEJc61C0e",
        "outputId": "2fbd3cfb-22f7-4746-e17e-b250f7218ad3"
      },
      "execution_count": null,
      "outputs": [
        {
          "output_type": "execute_result",
          "data": {
            "text/plain": [
              "8"
            ]
          },
          "metadata": {},
          "execution_count": 2
        }
      ]
    },
    {
      "cell_type": "code",
      "source": [
        "0*1*1*0*2*0*0*4"
      ],
      "metadata": {
        "colab": {
          "base_uri": "https://localhost:8080/"
        },
        "id": "8kwgEvRC1PVe",
        "outputId": "ab175fce-b9d2-4d3d-dd26-138c2f942501"
      },
      "execution_count": null,
      "outputs": [
        {
          "output_type": "execute_result",
          "data": {
            "text/plain": [
              "0"
            ]
          },
          "metadata": {},
          "execution_count": 3
        }
      ]
    },
    {
      "cell_type": "code",
      "source": [
        "0-1-1-0-2-0-0-4"
      ],
      "metadata": {
        "colab": {
          "base_uri": "https://localhost:8080/"
        },
        "id": "0KL7ttWa1u4f",
        "outputId": "de2c5745-e3b1-4298-8c60-06d25f68efdc"
      },
      "execution_count": null,
      "outputs": [
        {
          "output_type": "execute_result",
          "data": {
            "text/plain": [
              "-8"
            ]
          },
          "metadata": {},
          "execution_count": 4
        }
      ]
    },
    {
      "cell_type": "code",
      "source": [
        "x = str(2)\n",
        "y = int(3)\n",
        "z = float(3.89)\n",
        "print(x)\n",
        "print(y)\n",
        "print(z)"
      ],
      "metadata": {
        "colab": {
          "base_uri": "https://localhost:8080/"
        },
        "id": "9rHQa4X_10-W",
        "outputId": "d6053421-f60d-488a-afd5-dc1aed0e4077"
      },
      "execution_count": null,
      "outputs": [
        {
          "output_type": "stream",
          "name": "stdout",
          "text": [
            "2\n",
            "3\n",
            "3.89\n"
          ]
        }
      ]
    },
    {
      "cell_type": "code",
      "source": [
        "x = 5\n",
        "y = \"john\"\n",
        "print(type(x))\n",
        "print(type(y))"
      ],
      "metadata": {
        "colab": {
          "base_uri": "https://localhost:8080/"
        },
        "id": "f_aC4KlP3TKG",
        "outputId": "4f7cddc7-f496-4091-f858-e0174d7cc5b3"
      },
      "execution_count": null,
      "outputs": [
        {
          "output_type": "stream",
          "name": "stdout",
          "text": [
            "<class 'int'>\n",
            "<class 'str'>\n"
          ]
        }
      ]
    },
    {
      "cell_type": "code",
      "source": [
        "x = \"karthik\"\n",
        "x = 'karthik'\n",
        "x=2\n",
        "print(x)"
      ],
      "metadata": {
        "colab": {
          "base_uri": "https://localhost:8080/"
        },
        "id": "Phzar4_r4BGu",
        "outputId": "e232c379-f3e0-4ccb-b80c-2f3a419c7e0c"
      },
      "execution_count": null,
      "outputs": [
        {
          "output_type": "stream",
          "name": "stdout",
          "text": [
            "2\n"
          ]
        }
      ]
    },
    {
      "cell_type": "code",
      "source": [
        "x = \"karthik\"\n",
        "print(x)\n",
        "x = 'karthik'\n",
        "x=2\n",
        "print(x)"
      ],
      "metadata": {
        "colab": {
          "base_uri": "https://localhost:8080/"
        },
        "id": "3pDYHpi242YG",
        "outputId": "d3f16881-0fe7-4e4c-a92e-74829e95aea6"
      },
      "execution_count": null,
      "outputs": [
        {
          "output_type": "stream",
          "name": "stdout",
          "text": [
            "karthik\n",
            "2\n"
          ]
        }
      ]
    },
    {
      "cell_type": "code",
      "source": [
        "a = 4\n",
        "A = \"sally\""
      ],
      "metadata": {
        "id": "J-ajDKjD5YKO"
      },
      "execution_count": null,
      "outputs": []
    },
    {
      "cell_type": "code",
      "source": [
        "myvar =  \"karthik\"\n",
        "my_var = \"karthik\"\n",
        "_my_var = \"karthik\"\n",
        "myVar = \"karthik\"\n",
        "MYVAR = \"karthik\"\n",
        "myvar2 = \"karthik\"\n",
        "\n"
      ],
      "metadata": {
        "id": "ucxuGTie56I1"
      },
      "execution_count": null,
      "outputs": []
    },
    {
      "cell_type": "code",
      "source": [
        "x, y, z = \"Orange\" , \"Banana\" , \"Cherry\"\n",
        "print(x)\n",
        "print(y)\n",
        "print(z)"
      ],
      "metadata": {
        "colab": {
          "base_uri": "https://localhost:8080/"
        },
        "id": "FLF5LLM26hkN",
        "outputId": "e982938b-6807-479b-df8a-d6733b3b2cb1"
      },
      "execution_count": null,
      "outputs": [
        {
          "output_type": "stream",
          "name": "stdout",
          "text": [
            "Orange\n",
            "Banana\n",
            "Cherry\n"
          ]
        }
      ]
    },
    {
      "cell_type": "code",
      "source": [
        "x=\"karthik\"\n",
        "y=\"karthik\"\n",
        "z=\"karthik\"\n",
        "X=\"karthik\"\n",
        "Y=\"karthik\"\n",
        "Z=\"karthik\""
      ],
      "metadata": {
        "id": "HbVAEmzl65xA"
      },
      "execution_count": null,
      "outputs": []
    },
    {
      "cell_type": "code",
      "source": [
        "fruits = [\"apple\" , \"banana\" , \"cherry\"]\n",
        "print(fruits)\n"
      ],
      "metadata": {
        "colab": {
          "base_uri": "https://localhost:8080/"
        },
        "id": "ntRJsopP9Gid",
        "outputId": "dd5ecf97-e5cf-4a37-d5c2-77a5191094bb"
      },
      "execution_count": null,
      "outputs": [
        {
          "output_type": "stream",
          "name": "stdout",
          "text": [
            "['apple', 'banana', 'cherry']\n"
          ]
        }
      ]
    },
    {
      "cell_type": "code",
      "source": [
        "fruits = (\"apple\" , \"banana\" , \"cherry\")\n",
        "print(fruits)"
      ],
      "metadata": {
        "colab": {
          "base_uri": "https://localhost:8080/"
        },
        "id": "JpoQSNxv9qF0",
        "outputId": "54e363dd-3467-44e4-f5a4-ec6234b58854"
      },
      "execution_count": null,
      "outputs": [
        {
          "output_type": "stream",
          "name": "stdout",
          "text": [
            "('apple', 'banana', 'cherry')\n"
          ]
        }
      ]
    },
    {
      "cell_type": "code",
      "source": [
        "fruits = {\"apple\" , \"banana\" , \"cherry\"}\n",
        "print(fruits)"
      ],
      "metadata": {
        "colab": {
          "base_uri": "https://localhost:8080/"
        },
        "id": "X5S8JArh_D0k",
        "outputId": "1a2402eb-55c4-4626-f277-465c53b542a0"
      },
      "execution_count": null,
      "outputs": [
        {
          "output_type": "stream",
          "name": "stdout",
          "text": [
            "{'cherry', 'apple', 'banana'}\n"
          ]
        }
      ]
    },
    {
      "cell_type": "code",
      "source": [
        "fruits = [\"apple\" , \"banana\" , \"cherry\"]\n",
        "x,y,z=fruits\n",
        "print(x)\n",
        "print(y)\n",
        "print(z)\n"
      ],
      "metadata": {
        "colab": {
          "base_uri": "https://localhost:8080/"
        },
        "id": "kpQ8NN_s_nN9",
        "outputId": "fde94d4d-38c3-482f-f362-fcabde587008"
      },
      "execution_count": null,
      "outputs": [
        {
          "output_type": "stream",
          "name": "stdout",
          "text": [
            "apple\n",
            "banana\n",
            "cherry\n"
          ]
        }
      ]
    },
    {
      "cell_type": "code",
      "source": [
        "thisdict = {\n",
        "    \"brand\":\"ford\",\n",
        "    \"model\":\"mustang\",\n",
        "    \"year\":1964\n",
        "}\n",
        "print(thisdict)"
      ],
      "metadata": {
        "colab": {
          "base_uri": "https://localhost:8080/"
        },
        "id": "_BoPU6P7A-Uz",
        "outputId": "5967f09f-f772-474d-a1a1-4ac74fc2ab5c"
      },
      "execution_count": null,
      "outputs": [
        {
          "output_type": "stream",
          "name": "stdout",
          "text": [
            "{'brand': 'ford', 'model': 'mustang', 'year': 1964}\n"
          ]
        }
      ]
    },
    {
      "cell_type": "code",
      "source": [
        "import sys\n",
        "\n",
        "print(sys.version)\n",
        "\n"
      ],
      "metadata": {
        "colab": {
          "base_uri": "https://localhost:8080/"
        },
        "id": "ruIBJA-fDafy",
        "outputId": "3e7423c1-d613-4680-adbe-66561c4759cc"
      },
      "execution_count": null,
      "outputs": [
        {
          "output_type": "stream",
          "name": "stdout",
          "text": [
            "3.10.12 (main, Mar 22 2024, 16:50:05) [GCC 11.4.0]\n"
          ]
        }
      ]
    },
    {
      "cell_type": "code",
      "source": [
        "# prompt: naviye bayes\n",
        "\n",
        "from sklearn.naive_bayes import GaussianNB\n",
        "\n",
        "# Load the training data\n",
        "X_train = np.array([[1, 2], [2, 3], [3, 1], [4, 4], [5, 5]])\n",
        "y_train = np.array([0, 0, 1, 1, 1])\n",
        "\n",
        "# Create a Gaussian Naive Bayes classifier\n",
        "clf = GaussianNB()\n",
        "\n",
        "# Train the classifier\n",
        "clf.fit(X_train, y_train)\n",
        "\n",
        "# Load the test data\n",
        "X_test = np.array([[2, 2], [3, 3], [4, 5]])\n",
        "\n",
        "# Predict the labels of the test data\n",
        "y_pred = clf.predict(X_test)\n",
        "\n",
        "# Print the predicted labels\n",
        "print(y_pred)\n",
        "\n"
      ],
      "metadata": {
        "colab": {
          "base_uri": "https://localhost:8080/"
        },
        "id": "QDEs9oq-oSVz",
        "outputId": "f47efe91-ba16-48f7-817b-6846d157c539"
      },
      "execution_count": 4,
      "outputs": [
        {
          "output_type": "stream",
          "name": "stdout",
          "text": [
            "[0 1 1]\n"
          ]
        }
      ]
    },
    {
      "cell_type": "code",
      "source": [
        "# prompt: dfs in python\n",
        "\n",
        "from collections import deque\n",
        "\n",
        "\n",
        "def dfs(graph, start, visited=None):\n",
        "  \"\"\"\n",
        "  Performs a depth-first search on a graph starting from a given node.\n",
        "\n",
        "  Args:\n",
        "    graph: A dictionary representing the graph, where each key is a node and its\n",
        "      value is a list of its neighbors.\n",
        "    start: The starting node for the search.\n",
        "    visited: A set of already visited nodes (optional).\n",
        "\n",
        "  Returns:\n",
        "    A list of nodes in the order they were visited.\n",
        "  \"\"\"\n",
        "\n",
        "  if visited is None:\n",
        "    visited = set()\n",
        "\n",
        "  stack = deque([start])\n",
        "  visited.add(start)\n",
        "\n",
        "  while stack:\n",
        "    node = stack.pop()\n",
        "    yield node\n",
        "\n",
        "    for neighbor in graph[node]:\n",
        "      if neighbor not in visited:\n",
        "        stack.append(neighbor)\n",
        "        visited.add(neighbor)\n",
        "\n",
        "# Example usage:\n",
        "graph = {\n",
        "  'A': ['B', 'C'],\n",
        "  'B': ['D', 'E'],\n",
        "  'C': ['F'],\n",
        "  'D': [],\n",
        "  'E': ['F'],\n",
        "  'F': []\n",
        "}\n",
        "\n",
        "for node in dfs(graph, 'A'):\n",
        "  print(node)\n"
      ],
      "metadata": {
        "colab": {
          "base_uri": "https://localhost:8080/"
        },
        "id": "P7yY-AD8oZ-B",
        "outputId": "714aac19-1028-47db-ae3e-da6365b8d91d"
      },
      "execution_count": 5,
      "outputs": [
        {
          "output_type": "stream",
          "name": "stdout",
          "text": [
            "A\n",
            "C\n",
            "F\n",
            "B\n",
            "E\n",
            "D\n"
          ]
        }
      ]
    },
    {
      "cell_type": "code",
      "source": [
        "# prompt: knn in python\n",
        "\n",
        "import numpy as np\n",
        "from sklearn.neighbors import KNeighborsClassifier\n",
        "\n",
        "# Load the training data\n",
        "X_train = np.array([[1, 2], [2, 3], [3, 1], [4, 4], [5, 5]])\n",
        "y_train = np.array([0, 0, 1, 1, 1])\n",
        "\n",
        "# Create a KNN classifier with k=3\n",
        "knn = KNeighborsClassifier(n_neighbors=3)\n",
        "\n",
        "# Train the classifier\n",
        "knn.fit(X_train, y_train)\n",
        "\n",
        "# Load the test data\n",
        "X_test = np.array([[2, 2], [3, 3], [4, 5]])\n",
        "\n",
        "# Predict the labels of the test data\n",
        "y_pred = knn.predict(X_test)\n",
        "\n",
        "# Print the predicted labels\n",
        "print(y_pred)\n"
      ],
      "metadata": {
        "colab": {
          "base_uri": "https://localhost:8080/"
        },
        "id": "wZ4sdiIyonSZ",
        "outputId": "9bb9b2d0-3cda-4b56-fb9a-3e36bf0e9592"
      },
      "execution_count": 7,
      "outputs": [
        {
          "output_type": "stream",
          "name": "stdout",
          "text": [
            "[0 1 1]\n"
          ]
        }
      ]
    },
    {
      "cell_type": "code",
      "source": [
        "# prompt: Linear regression in python\n",
        "\n",
        "import numpy as np\n",
        "from sklearn.linear_model import LinearRegression\n",
        "\n",
        "# Load the data\n",
        "X = np.array([[1, 1], [1, 2], [2, 2], [2, 3]])\n",
        "y = np.dot(X, np.array([1, 2])) + 3\n",
        "\n",
        "# Create the model\n",
        "model = LinearRegression()\n",
        "\n",
        "# Train the model\n",
        "model.fit(X, y)\n",
        "\n",
        "# Make predictions\n",
        "y_pred = model.predict(X)\n",
        "\n",
        "# Print the predictions\n",
        "print(y_pred)\n"
      ],
      "metadata": {
        "colab": {
          "base_uri": "https://localhost:8080/"
        },
        "id": "Rb2sBNwoothp",
        "outputId": "49fd22ce-c852-4fe4-d952-bb1f3d049433"
      },
      "execution_count": 8,
      "outputs": [
        {
          "output_type": "stream",
          "name": "stdout",
          "text": [
            "[ 6.  8.  9. 11.]\n"
          ]
        }
      ]
    },
    {
      "cell_type": "code",
      "source": [
        "import numpy as np\n",
        "import matplotlib.pyplot as plt\n",
        "\n",
        "# Creating a series of data of in range of 1-50.\n",
        "x = np.linspace(1,50,200)\n",
        "\n",
        "#Creating a Function.\n",
        "def gaussian_dist(x, mean, sd):\n",
        "    prob_density = (1/(sd * np.sqrt(2 * np.pi))) * np.exp(-0.5 * ((x - mean) / sd)**2)\n",
        "    return prob_density\n",
        "\n",
        "#Calculate mean and Standard deviation.\n",
        "mean = np.mean(x)\n",
        "sd = np.std(x)\n",
        "\n",
        "#Apply function to the data.\n",
        "pdf = gaussian_dist(x, mean, sd)\n",
        "\n",
        "#Plotting the Results\n",
        "plt.figure(figsize=(10,6))\n",
        "plt.plot(x, pdf, color='red')\n",
        "plt.xlabel('Data points')\n",
        "plt.ylabel('Probability Density')\n",
        "plt.title('Gaussian Distribution of Data')\n",
        "plt.show()"
      ],
      "metadata": {
        "colab": {
          "base_uri": "https://localhost:8080/",
          "height": 564
        },
        "id": "Kod5pXZ5oztq",
        "outputId": "6a27a78d-67b4-43b9-9709-0a6c442132f0"
      },
      "execution_count": 9,
      "outputs": [
        {
          "output_type": "display_data",
          "data": {
            "text/plain": [
              "<Figure size 1000x600 with 1 Axes>"
            ],
            "image/png": "[encoded data removed]"
          },
          "metadata": {}
        }
      ]
    },
    {
      "cell_type": "code",
      "source": [
        "# prompt: Support vector machine in python with hyper plane\n",
        "\n",
        "import numpy as np\n",
        "import matplotlib.pyplot as plt\n",
        "from sklearn.svm import SVC\n",
        "\n",
        "# Create some data\n",
        "X = np.array([[1, 1], [2, 2], [3, 3], [4, 4], [5, 5], [1, 6], [2, 7], [3, 8], [4, 9], [5, 10]])\n",
        "y = np.array([0, 0, 0, 0, 0, 1, 1, 1, 1, 1])\n",
        "\n",
        "# Create a support vector classifier\n",
        "clf = SVC(kernel='linear', C=1.0)\n",
        "\n",
        "# Train the classifier\n",
        "clf.fit(X, y)\n",
        "\n",
        "# Create a hyperplane\n",
        "w = clf.coef_[0]\n",
        "a = -w[0] / w[1]\n",
        "xx = np.linspace(0, 6)\n",
        "yy = a * xx - clf.intercept_[0] / w[1]\n",
        "\n",
        "# Plot the data and the hyperplane\n",
        "plt.figure(figsize=(10, 6))\n",
        "plt.scatter(X[:, 0], X[:, 1], c=y, cmap='viridis')\n",
        "plt.plot(xx, yy, 'k-', label='Hyperplane')\n",
        "plt.xlabel('X1')\n",
        "plt.ylabel('X2')\n",
        "plt.legend()\n",
        "plt.show()\n"
      ],
      "metadata": {
        "colab": {
          "base_uri": "https://localhost:8080/",
          "height": 542
        },
        "id": "S5xRRNfpo4Rb",
        "outputId": "e4454256-eed0-41fa-e13d-e87ccedc5a2d"
      },
      "execution_count": 10,
      "outputs": [
        {
          "output_type": "display_data",
          "data": {
            "text/plain": [
              "<Figure size 1000x600 with 1 Axes>"
            ],
            "image/png": "[encoded data removed]"
          },
          "metadata": {}
        }
      ]
    },
    {
      "cell_type": "code",
      "source": [
        "import matplotlib.pyplot as plt\n",
        "from sklearn.cluster import KMeans\n",
        "\n",
        "# Generate some random data\n",
        "X = np.random.rand(100, 2)\n",
        "\n",
        "# Create a KMeans model with 3 clusters\n",
        "model = KMeans(n_clusters=3)\n",
        "\n",
        "# Fit the model to the data\n",
        "model.fit(X)\n",
        "\n",
        "# Get the cluster labels\n",
        "labels = model.labels_\n",
        "\n",
        "# Plot the data points with different colors for each cluster\n",
        "plt.scatter(X[:, 0], X[:, 1], c=labels, cmap='viridis')\n",
        "plt.title('K-Means Clustering with 3 Clusters')\n",
        "plt.show()"
      ],
      "metadata": {
        "colab": {
          "base_uri": "https://localhost:8080/",
          "height": 452
        },
        "id": "juzs9ZJ1o8sI",
        "outputId": "5aa22173-6d1c-4116-b856-b7264cee34ca"
      },
      "execution_count": 11,
      "outputs": [
        {
          "output_type": "display_data",
          "data": {
            "text/plain": [
              "<Figure size 640x480 with 1 Axes>"
            ],
            "image/png": "[encoded data removed]"
          },
          "metadata": {}
        }
      ]
    },
    {
      "cell_type": "code",
      "execution_count": 12,
      "metadata": {
        "colab": {
          "base_uri": "https://localhost:8080/"
        },
        "id": "KO8GEuSAJbfM",
        "outputId": "e2897cd2-c787-402c-9af5-9a4276948536"
      },
      "outputs": [
        {
          "output_type": "stream",
          "name": "stderr",
          "text": [
            "/usr/local/lib/python3.10/dist-packages/gym/core.py:317: DeprecationWarning: \u001b[33mWARN: Initializing wrapper in old step API which returns one bool instead of two. It is recommended to set `new_step_api=True` to use new step API. This will be the default behaviour in future.\u001b[0m\n",
            "  deprecation(\n",
            "/usr/local/lib/python3.10/dist-packages/gym/wrappers/step_api_compatibility.py:39: DeprecationWarning: \u001b[33mWARN: Initializing environment in old step API which returns one bool instead of two. It is recommended to set `new_step_api=True` to use new step API. This will be the default behaviour in future.\u001b[0m\n",
            "  deprecation(\n",
            "/usr/local/lib/python3.10/dist-packages/gym/core.py:49: DeprecationWarning: \u001b[33mWARN: You are calling render method, but you didn't specified the argument render_mode at environment initialization. To maintain backward compatibility, the environment will render in human mode.\n",
            "If you want to render in human mode, initialize the environment in this way: gym.make('EnvName', render_mode='human') and don't call the render method.\n",
            "See here for more information: https://www.gymlibrary.ml/content/api/\u001b[0m\n",
            "  deprecation(\n",
            "/usr/local/lib/python3.10/dist-packages/gym/utils/passive_env_checker.py:241: DeprecationWarning: `np.bool8` is a deprecated alias for `np.bool_`.  (Deprecated NumPy 1.24)\n",
            "  if not isinstance(terminated, (bool, np.bool8)):\n"
          ]
        },
        {
          "output_type": "stream",
          "name": "stdout",
          "text": [
            "Episode 1: Total Reward = 10.0\n",
            "Episode 2: Total Reward = 22.0\n",
            "Episode 3: Total Reward = 12.0\n",
            "Episode 4: Total Reward = 11.0\n",
            "Episode 5: Total Reward = 18.0\n",
            "Episode 6: Total Reward = 22.0\n",
            "Episode 7: Total Reward = 15.0\n",
            "Episode 8: Total Reward = 21.0\n",
            "Episode 9: Total Reward = 38.0\n",
            "Episode 10: Total Reward = 36.0\n"
          ]
        }
      ],
      "source": [
        "import gym\n",
        "import numpy as np\n",
        "\n",
        "env = gym.make('CartPole-v1')\n",
        "\n",
        "num_episodes = 10\n",
        "for episode in range(num_episodes):\n",
        "    state = env.reset()\n",
        "    done = False\n",
        "    total_reward = 0\n",
        "    while not done:\n",
        "\n",
        "        env.render()\n",
        "\n",
        "        action = env.action_space.sample()\n",
        "        next_state, reward, done, info = env.step(action)\n",
        "        total_reward += reward\n",
        "        state = next_state\n",
        "\n",
        "    print(f\"Episode {episode + 1}: Total Reward = {total_reward}\")\n",
        "\n",
        "env.close()\n"
      ]
    },
    {
      "cell_type": "code",
      "source": [
        "import numpy as np\n",
        "import pandas as pd\n",
        "import matplotlib.pyplot as plt\n",
        "import seaborn as sns\n"
      ],
      "metadata": {
        "id": "2gdJaiFRpfCh"
      },
      "execution_count": 13,
      "outputs": []
    },
    {
      "source": [
        "from sklearn.preprocessing import StandardScaler # Corrected the name to StandardScaler\n",
        "std_scalar = StandardScaler()"
      ],
      "cell_type": "code",
      "metadata": {
        "id": "R2fi8BPhpps5"
      },
      "execution_count": 16,
      "outputs": []
    },
    {
      "cell_type": "code",
      "source": [
        "import pandas as pd\n",
        "import numpy as np\n",
        "import matplotlib.pyplot as plt\n",
        "import seaborn as sns\n",
        "from sklearn.model_selection import train_test_split\n",
        "from sklearn.linear_model import LinearRegression, LogisticRegression\n",
        "from sklearn.metrics import mean_squared_error, accuracy_score, confusion_matrix, classification_report\n"
      ],
      "metadata": {
        "id": "jvYYgoIXetPL"
      },
      "execution_count": 17,
      "outputs": []
    },
    {
      "cell_type": "code",
      "source": [
        "url = \"https://raw.githubusercontent.com/jbrownlee/Datasets/master/pima-indians-diabetes.data.csv\"\n",
        "columns = ['Pregnancies', 'Glucose', 'BloodPressure', 'SkinThickness', 'Insulin',\n",
        "           'BMI', 'DiabetesPedigreeFunction', 'Age', 'Outcome']\n",
        "diabetes_data = pd.read_csv(url, header=None, names=columns)\n"
      ],
      "metadata": {
        "id": "KfmQDgLYf8ha"
      },
      "execution_count": 18,
      "outputs": []
    },
    {
      "cell_type": "code",
      "source": [
        "print(diabetes_data.head())\n",
        "\n",
        "print(diabetes_data.isnull().sum())\n",
        "\n",
        "print(diabetes_data.describe())\n",
        "\n",
        "sns.countplot(x='Outcome', data=diabetes_data)\n",
        "plt.title('Diabetes Outcome Distribution')\n",
        "plt.show()"
      ],
      "metadata": {
        "colab": {
          "base_uri": "https://localhost:8080/",
          "height": 1000
        },
        "id": "hpSXzfcYgGI6",
        "outputId": "b36fc841-9d38-4d19-ece2-bb2128ec2e32"
      },
      "execution_count": 19,
      "outputs": [
        {
          "output_type": "stream",
          "name": "stdout",
          "text": [
            "   Pregnancies  Glucose  BloodPressure  SkinThickness  Insulin   BMI  \\\n",
            "0            6      148             72             35        0  33.6   \n",
            "1            1       85             66             29        0  26.6   \n",
            "2            8      183             64              0        0  23.3   \n",
            "3            1       89             66             23       94  28.1   \n",
            "4            0      137             40             35      168  43.1   \n",
            "\n",
            "   DiabetesPedigreeFunction  Age  Outcome  \n",
            "0                     0.627   50        1  \n",
            "1                     0.351   31        0  \n",
            "2                     0.672   32        1  \n",
            "3                     0.167   21        0  \n",
            "4                     2.288   33        1  \n",
            "Pregnancies                 0\n",
            "Glucose                     0\n",
            "BloodPressure               0\n",
            "SkinThickness               0\n",
            "Insulin                     0\n",
            "BMI                         0\n",
            "DiabetesPedigreeFunction    0\n",
            "Age                         0\n",
            "Outcome                     0\n",
            "dtype: int64\n",
            "       Pregnancies     Glucose  BloodPressure  SkinThickness     Insulin  \\\n",
            "count   768.000000  768.000000     768.000000     768.000000  768.000000   \n",
            "mean      3.845052  120.894531      69.105469      20.536458   79.799479   \n",
            "std       3.369578   31.972618      19.355807      15.952218  115.244002   \n",
            "min       0.000000    0.000000       0.000000       0.000000    0.000000   \n",
            "25%       1.000000   99.000000      62.000000       0.000000    0.000000   \n",
            "50%       3.000000  117.000000      72.000000      23.000000   30.500000   \n",
            "75%       6.000000  140.250000      80.000000      32.000000  127.250000   \n",
            "max      17.000000  199.000000     122.000000      99.000000  846.000000   \n",
            "\n",
            "              BMI  DiabetesPedigreeFunction         Age     Outcome  \n",
            "count  768.000000                768.000000  768.000000  768.000000  \n",
            "mean    31.992578                  0.471876   33.240885    0.348958  \n",
            "std      7.884160                  0.331329   11.760232    0.476951  \n",
            "min      0.000000                  0.078000   21.000000    0.000000  \n",
            "25%     27.300000                  0.243750   24.000000    0.000000  \n",
            "50%     32.000000                  0.372500   29.000000    0.000000  \n",
            "75%     36.600000                  0.626250   41.000000    1.000000  \n",
            "max     67.100000                  2.420000   81.000000    1.000000  \n"
          ]
        },
        {
          "output_type": "display_data",
          "data": {
            "text/plain": [
              "<Figure size 640x480 with 1 Axes>"
            ],
            "image/png": "[encoded data removed]"
          },
          "metadata": {}
        }
      ]
    },
    {
      "cell_type": "code",
      "source": [
        "X = diabetes_data.drop('Outcome', axis=1)\n",
        "y = diabetes_data['Outcome']\n",
        "\n",
        "\n",
        "X_train, X_test, y_train, y_test = train_test_split(X, y, test_size=0.2, random_state=42)"
      ],
      "metadata": {
        "id": "zaYM2BT3ic5a"
      },
      "execution_count": 20,
      "outputs": []
    },
    {
      "cell_type": "code",
      "source": [
        "lin_reg = LinearRegression()\n",
        "lin_reg.fit(X_train[['Pregnancies', 'Age']], X_train['Glucose'])\n",
        "\n",
        "glucose_pred = lin_reg.predict(X_test[['Pregnancies', 'Age']])\n",
        "\n",
        "mse = mean_squared_error(X_test['Glucose'], glucose_pred)\n",
        "print(f'Mean Squared Error (Linear Regression): {mse}')\n"
      ],
      "metadata": {
        "colab": {
          "base_uri": "https://localhost:8080/"
        },
        "id": "lsUXBEpFqNnQ",
        "outputId": "1db171b4-9048-4fb2-969a-b12355950fa7"
      },
      "execution_count": 21,
      "outputs": [
        {
          "output_type": "stream",
          "name": "stdout",
          "text": [
            "Mean Squared Error (Linear Regression): 952.6313698645895\n"
          ]
        }
      ]
    },
    {
      "cell_type": "code",
      "source": [
        "log_reg = LogisticRegression(max_iter=200)\n",
        "log_reg.fit(X_train, y_train)\n",
        "\n",
        "y_pred = log_reg.predict(X_test)\n",
        "\n",
        "accuracy = accuracy_score(y_test, y_pred)\n",
        "conf_matrix = confusion_matrix(y_test, y_pred)\n",
        "\n",
        "print(f'Accuracy (Logistic Regression): {accuracy}')\n",
        "print('Confusion Matrix:')\n",
        "print(conf_matrix)\n",
        "print(classification_report(y_test, y_pred))\n"
      ],
      "metadata": {
        "colab": {
          "base_uri": "https://localhost:8080/"
        },
        "id": "if0IA9t4qRsJ",
        "outputId": "970421a7-8ee6-4baf-b00d-14698f6d2c03"
      },
      "execution_count": 22,
      "outputs": [
        {
          "output_type": "stream",
          "name": "stdout",
          "text": [
            "Accuracy (Logistic Regression): 0.7467532467532467\n",
            "Confusion Matrix:\n",
            "[[78 21]\n",
            " [18 37]]\n",
            "              precision    recall  f1-score   support\n",
            "\n",
            "           0       0.81      0.79      0.80        99\n",
            "           1       0.64      0.67      0.65        55\n",
            "\n",
            "    accuracy                           0.75       154\n",
            "   macro avg       0.73      0.73      0.73       154\n",
            "weighted avg       0.75      0.75      0.75       154\n",
            "\n"
          ]
        }
      ]
    },
    {
      "cell_type": "code",
      "source": [
        "sns.heatmap(conf_matrix, annot=True, fmt='d', cmap='Blues')\n",
        "plt.xlabel('Predicted')\n",
        "plt.ylabel('Actual')\n",
        "plt.title('Confusion Matrix for Logistic Regression')\n",
        "plt.show()"
      ],
      "metadata": {
        "colab": {
          "base_uri": "https://localhost:8080/",
          "height": 472
        },
        "id": "GnvySmgjqWNZ",
        "outputId": "3ee38801-2eea-4ca0-ebc9-04ddde16728c"
      },
      "execution_count": 23,
      "outputs": [
        {
          "output_type": "display_data",
          "data": {
            "text/plain": [
              "<Figure size 640x480 with 2 Axes>"
            ],
            "image/png": "[encoded data removed]"
          },
          "metadata": {}
        }
      ]
    }
  ]
}